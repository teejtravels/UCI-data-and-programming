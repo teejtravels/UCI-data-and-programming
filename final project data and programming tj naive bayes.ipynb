{
 "cells": [
  {
   "cell_type": "markdown",
   "metadata": {},
   "source": [
    "## Naive bayes project\n"
   ]
  },
  {
   "cell_type": "markdown",
   "metadata": {},
   "source": [
    "#"
   ]
  },
  {
   "cell_type": "markdown",
   "metadata": {},
   "source": []
  },
  {
   "attachments": {},
   "cell_type": "markdown",
   "metadata": {},
   "source": []
  },
  {
   "cell_type": "code",
   "execution_count": 1,
   "metadata": {},
   "outputs": [],
   "source": [
    "# Import necessary libraries\n",
    "from sklearn.preprocessing import StandardScaler\n",
    "from sklearn.datasets import load_iris\n",
    "import pandas as pd"
   ]
  },
  {
   "cell_type": "markdown",
   "metadata": {},
   "source": []
  },
  {
   "cell_type": "raw",
   "metadata": {},
   "source": []
  },
  {
   "cell_type": "markdown",
   "metadata": {},
   "source": [
    "## Start of Naive bays and preprocessing\n"
   ]
  },
  {
   "cell_type": "markdown",
   "metadata": {},
   "source": []
  },
  {
   "cell_type": "code",
   "execution_count": 3,
   "metadata": {},
   "outputs": [],
   "source": [
    "import pandas as pd"
   ]
  },
  {
   "cell_type": "code",
   "execution_count": 9,
   "metadata": {},
   "outputs": [
    {
     "data": {
      "text/html": [
       "<div>\n",
       "<style scoped>\n",
       "    .dataframe tbody tr th:only-of-type {\n",
       "        vertical-align: middle;\n",
       "    }\n",
       "\n",
       "    .dataframe tbody tr th {\n",
       "        vertical-align: top;\n",
       "    }\n",
       "\n",
       "    .dataframe thead th {\n",
       "        text-align: right;\n",
       "    }\n",
       "</style>\n",
       "<table border=\"1\" class=\"dataframe\">\n",
       "  <thead>\n",
       "    <tr style=\"text-align: right;\">\n",
       "      <th></th>\n",
       "      <th>Unnamed: 0</th>\n",
       "      <th>bedrooms</th>\n",
       "      <th>beds</th>\n",
       "      <th>accommodates</th>\n",
       "      <th>amenities_count</th>\n",
       "      <th>instant_bookable</th>\n",
       "      <th>minimum_nights</th>\n",
       "      <th>number_of_reviews</th>\n",
       "      <th>bathrooms</th>\n",
       "      <th>monthly_revenue</th>\n",
       "      <th>room_type_Entire_home_apt</th>\n",
       "      <th>room_type_Hotel_room</th>\n",
       "      <th>room_type_Private_room</th>\n",
       "      <th>room_type_Shared_room</th>\n",
       "    </tr>\n",
       "  </thead>\n",
       "  <tbody>\n",
       "    <tr>\n",
       "      <th>0</th>\n",
       "      <td>0</td>\n",
       "      <td>0.0</td>\n",
       "      <td>1.0</td>\n",
       "      <td>1</td>\n",
       "      <td>17</td>\n",
       "      <td>0</td>\n",
       "      <td>6</td>\n",
       "      <td>0</td>\n",
       "      <td>1.0</td>\n",
       "      <td>0</td>\n",
       "      <td>0</td>\n",
       "      <td>0</td>\n",
       "      <td>1</td>\n",
       "      <td>0</td>\n",
       "    </tr>\n",
       "    <tr>\n",
       "      <th>1</th>\n",
       "      <td>1</td>\n",
       "      <td>0.0</td>\n",
       "      <td>1.0</td>\n",
       "      <td>2</td>\n",
       "      <td>2</td>\n",
       "      <td>0</td>\n",
       "      <td>1</td>\n",
       "      <td>0</td>\n",
       "      <td>3.0</td>\n",
       "      <td>0</td>\n",
       "      <td>0</td>\n",
       "      <td>0</td>\n",
       "      <td>1</td>\n",
       "      <td>0</td>\n",
       "    </tr>\n",
       "    <tr>\n",
       "      <th>2</th>\n",
       "      <td>2</td>\n",
       "      <td>1.0</td>\n",
       "      <td>2.0</td>\n",
       "      <td>4</td>\n",
       "      <td>5</td>\n",
       "      <td>1</td>\n",
       "      <td>1</td>\n",
       "      <td>0</td>\n",
       "      <td>1.0</td>\n",
       "      <td>0</td>\n",
       "      <td>0</td>\n",
       "      <td>0</td>\n",
       "      <td>1</td>\n",
       "      <td>0</td>\n",
       "    </tr>\n",
       "    <tr>\n",
       "      <th>3</th>\n",
       "      <td>3</td>\n",
       "      <td>1.0</td>\n",
       "      <td>1.0</td>\n",
       "      <td>2</td>\n",
       "      <td>13</td>\n",
       "      <td>0</td>\n",
       "      <td>30</td>\n",
       "      <td>1</td>\n",
       "      <td>1.0</td>\n",
       "      <td>0</td>\n",
       "      <td>1</td>\n",
       "      <td>0</td>\n",
       "      <td>0</td>\n",
       "      <td>0</td>\n",
       "    </tr>\n",
       "    <tr>\n",
       "      <th>4</th>\n",
       "      <td>8</td>\n",
       "      <td>1.0</td>\n",
       "      <td>1.0</td>\n",
       "      <td>2</td>\n",
       "      <td>62</td>\n",
       "      <td>0</td>\n",
       "      <td>2</td>\n",
       "      <td>105</td>\n",
       "      <td>1.0</td>\n",
       "      <td>0</td>\n",
       "      <td>1</td>\n",
       "      <td>0</td>\n",
       "      <td>0</td>\n",
       "      <td>0</td>\n",
       "    </tr>\n",
       "  </tbody>\n",
       "</table>\n",
       "</div>"
      ],
      "text/plain": [
       "   Unnamed: 0  bedrooms  beds  accommodates  amenities_count  \\\n",
       "0           0       0.0   1.0             1               17   \n",
       "1           1       0.0   1.0             2                2   \n",
       "2           2       1.0   2.0             4                5   \n",
       "3           3       1.0   1.0             2               13   \n",
       "4           8       1.0   1.0             2               62   \n",
       "\n",
       "   instant_bookable  minimum_nights  number_of_reviews  bathrooms  \\\n",
       "0                 0               6                  0        1.0   \n",
       "1                 0               1                  0        3.0   \n",
       "2                 1               1                  0        1.0   \n",
       "3                 0              30                  1        1.0   \n",
       "4                 0               2                105        1.0   \n",
       "\n",
       "   monthly_revenue  room_type_Entire_home_apt  room_type_Hotel_room  \\\n",
       "0                0                          0                     0   \n",
       "1                0                          0                     0   \n",
       "2                0                          0                     0   \n",
       "3                0                          1                     0   \n",
       "4                0                          1                     0   \n",
       "\n",
       "   room_type_Private_room  room_type_Shared_room  \n",
       "0                       1                      0  \n",
       "1                       1                      0  \n",
       "2                       1                      0  \n",
       "3                       0                      0  \n",
       "4                       0                      0  "
      ]
     },
     "execution_count": 9,
     "metadata": {},
     "output_type": "execute_result"
    }
   ],
   "source": [
    "# loading the data\n",
    "df = pd.read_csv('bnb.csv', low_memory=False)\n",
    "# view the first 5 elements of the dataframe\n",
    "df.head()"
   ]
  },
  {
   "cell_type": "code",
   "execution_count": 6,
   "metadata": {},
   "outputs": [
    {
     "data": {
      "text/plain": [
       "(150, 4)"
      ]
     },
     "execution_count": 6,
     "metadata": {},
     "output_type": "execute_result"
    }
   ],
   "source": [
    "# gives the rows, cols of the dataset\n",
    "df.shape"
   ]
  },
  {
   "cell_type": "code",
   "execution_count": 10,
   "metadata": {},
   "outputs": [
    {
     "name": "stdout",
     "output_type": "stream",
     "text": [
      "count    33355.000000\n",
      "mean         0.411153\n",
      "std          0.492050\n",
      "min          0.000000\n",
      "25%          0.000000\n",
      "50%          0.000000\n",
      "75%          1.000000\n",
      "max          1.000000\n",
      "Name: monthly_revenue, dtype: float64\n"
     ]
    }
   ],
   "source": [
    "# Get summary statistics for numeric columns\n",
    "print(df['monthly_revenue'].describe())"
   ]
  },
  {
   "cell_type": "code",
   "execution_count": 11,
   "metadata": {},
   "outputs": [
    {
     "name": "stdout",
     "output_type": "stream",
     "text": [
      "Unnamed: 0                   0\n",
      "bedrooms                     0\n",
      "beds                         0\n",
      "accommodates                 0\n",
      "amenities_count              0\n",
      "instant_bookable             0\n",
      "minimum_nights               0\n",
      "number_of_reviews            0\n",
      "bathrooms                    0\n",
      "monthly_revenue              0\n",
      "room_type_Entire_home_apt    0\n",
      "room_type_Hotel_room         0\n",
      "room_type_Private_room       0\n",
      "room_type_Shared_room        0\n",
      "dtype: int64\n"
     ]
    }
   ],
   "source": [
    "# Check for missing values\n",
    "print(df.isnull().sum())"
   ]
  },
  {
   "cell_type": "markdown",
   "metadata": {},
   "source": []
  },
  {
   "cell_type": "code",
   "execution_count": null,
   "metadata": {},
   "outputs": [],
   "source": []
  },
  {
   "cell_type": "code",
   "execution_count": null,
   "metadata": {},
   "outputs": [],
   "source": []
  },
  {
   "cell_type": "code",
   "execution_count": null,
   "metadata": {},
   "outputs": [],
   "source": []
  },
  {
   "cell_type": "code",
   "execution_count": null,
   "metadata": {},
   "outputs": [],
   "source": []
  },
  {
   "cell_type": "code",
   "execution_count": 2,
   "metadata": {},
   "outputs": [],
   "source": [
    "import matplotlib.pyplot as plt"
   ]
  },
  {
   "cell_type": "markdown",
   "metadata": {},
   "source": []
  },
  {
   "cell_type": "markdown",
   "metadata": {},
   "source": [
    "## Naive Bayes Classification"
   ]
  },
  {
   "cell_type": "code",
   "execution_count": 3,
   "metadata": {},
   "outputs": [
    {
     "ename": "FileNotFoundError",
     "evalue": "[Errno 2] No such file or directory: 'bnb.csv'",
     "output_type": "error",
     "traceback": [
      "\u001b[1;31m---------------------------------------------------------------------------\u001b[0m",
      "\u001b[1;31mFileNotFoundError\u001b[0m                         Traceback (most recent call last)",
      "Cell \u001b[1;32mIn[3], line 2\u001b[0m\n\u001b[0;32m      1\u001b[0m \u001b[38;5;66;03m# Explore the dataset with the pandas library.\u001b[39;00m\n\u001b[1;32m----> 2\u001b[0m data \u001b[38;5;241m=\u001b[39m \u001b[43mpd\u001b[49m\u001b[38;5;241;43m.\u001b[39;49m\u001b[43mread_csv\u001b[49m\u001b[43m(\u001b[49m\u001b[38;5;124;43m\"\u001b[39;49m\u001b[38;5;124;43mbnb.csv\u001b[39;49m\u001b[38;5;124;43m\"\u001b[39;49m\u001b[43m)\u001b[49m\n\u001b[0;32m      3\u001b[0m data\n",
      "File \u001b[1;32mD:\\anaconda\\Lib\\site-packages\\pandas\\io\\parsers\\readers.py:912\u001b[0m, in \u001b[0;36mread_csv\u001b[1;34m(filepath_or_buffer, sep, delimiter, header, names, index_col, usecols, dtype, engine, converters, true_values, false_values, skipinitialspace, skiprows, skipfooter, nrows, na_values, keep_default_na, na_filter, verbose, skip_blank_lines, parse_dates, infer_datetime_format, keep_date_col, date_parser, date_format, dayfirst, cache_dates, iterator, chunksize, compression, thousands, decimal, lineterminator, quotechar, quoting, doublequote, escapechar, comment, encoding, encoding_errors, dialect, on_bad_lines, delim_whitespace, low_memory, memory_map, float_precision, storage_options, dtype_backend)\u001b[0m\n\u001b[0;32m    899\u001b[0m kwds_defaults \u001b[38;5;241m=\u001b[39m _refine_defaults_read(\n\u001b[0;32m    900\u001b[0m     dialect,\n\u001b[0;32m    901\u001b[0m     delimiter,\n\u001b[1;32m   (...)\u001b[0m\n\u001b[0;32m    908\u001b[0m     dtype_backend\u001b[38;5;241m=\u001b[39mdtype_backend,\n\u001b[0;32m    909\u001b[0m )\n\u001b[0;32m    910\u001b[0m kwds\u001b[38;5;241m.\u001b[39mupdate(kwds_defaults)\n\u001b[1;32m--> 912\u001b[0m \u001b[38;5;28;01mreturn\u001b[39;00m \u001b[43m_read\u001b[49m\u001b[43m(\u001b[49m\u001b[43mfilepath_or_buffer\u001b[49m\u001b[43m,\u001b[49m\u001b[43m \u001b[49m\u001b[43mkwds\u001b[49m\u001b[43m)\u001b[49m\n",
      "File \u001b[1;32mD:\\anaconda\\Lib\\site-packages\\pandas\\io\\parsers\\readers.py:577\u001b[0m, in \u001b[0;36m_read\u001b[1;34m(filepath_or_buffer, kwds)\u001b[0m\n\u001b[0;32m    574\u001b[0m _validate_names(kwds\u001b[38;5;241m.\u001b[39mget(\u001b[38;5;124m\"\u001b[39m\u001b[38;5;124mnames\u001b[39m\u001b[38;5;124m\"\u001b[39m, \u001b[38;5;28;01mNone\u001b[39;00m))\n\u001b[0;32m    576\u001b[0m \u001b[38;5;66;03m# Create the parser.\u001b[39;00m\n\u001b[1;32m--> 577\u001b[0m parser \u001b[38;5;241m=\u001b[39m \u001b[43mTextFileReader\u001b[49m\u001b[43m(\u001b[49m\u001b[43mfilepath_or_buffer\u001b[49m\u001b[43m,\u001b[49m\u001b[43m \u001b[49m\u001b[38;5;241;43m*\u001b[39;49m\u001b[38;5;241;43m*\u001b[39;49m\u001b[43mkwds\u001b[49m\u001b[43m)\u001b[49m\n\u001b[0;32m    579\u001b[0m \u001b[38;5;28;01mif\u001b[39;00m chunksize \u001b[38;5;129;01mor\u001b[39;00m iterator:\n\u001b[0;32m    580\u001b[0m     \u001b[38;5;28;01mreturn\u001b[39;00m parser\n",
      "File \u001b[1;32mD:\\anaconda\\Lib\\site-packages\\pandas\\io\\parsers\\readers.py:1407\u001b[0m, in \u001b[0;36mTextFileReader.__init__\u001b[1;34m(self, f, engine, **kwds)\u001b[0m\n\u001b[0;32m   1404\u001b[0m     \u001b[38;5;28mself\u001b[39m\u001b[38;5;241m.\u001b[39moptions[\u001b[38;5;124m\"\u001b[39m\u001b[38;5;124mhas_index_names\u001b[39m\u001b[38;5;124m\"\u001b[39m] \u001b[38;5;241m=\u001b[39m kwds[\u001b[38;5;124m\"\u001b[39m\u001b[38;5;124mhas_index_names\u001b[39m\u001b[38;5;124m\"\u001b[39m]\n\u001b[0;32m   1406\u001b[0m \u001b[38;5;28mself\u001b[39m\u001b[38;5;241m.\u001b[39mhandles: IOHandles \u001b[38;5;241m|\u001b[39m \u001b[38;5;28;01mNone\u001b[39;00m \u001b[38;5;241m=\u001b[39m \u001b[38;5;28;01mNone\u001b[39;00m\n\u001b[1;32m-> 1407\u001b[0m \u001b[38;5;28mself\u001b[39m\u001b[38;5;241m.\u001b[39m_engine \u001b[38;5;241m=\u001b[39m \u001b[38;5;28;43mself\u001b[39;49m\u001b[38;5;241;43m.\u001b[39;49m\u001b[43m_make_engine\u001b[49m\u001b[43m(\u001b[49m\u001b[43mf\u001b[49m\u001b[43m,\u001b[49m\u001b[43m \u001b[49m\u001b[38;5;28;43mself\u001b[39;49m\u001b[38;5;241;43m.\u001b[39;49m\u001b[43mengine\u001b[49m\u001b[43m)\u001b[49m\n",
      "File \u001b[1;32mD:\\anaconda\\Lib\\site-packages\\pandas\\io\\parsers\\readers.py:1661\u001b[0m, in \u001b[0;36mTextFileReader._make_engine\u001b[1;34m(self, f, engine)\u001b[0m\n\u001b[0;32m   1659\u001b[0m     \u001b[38;5;28;01mif\u001b[39;00m \u001b[38;5;124m\"\u001b[39m\u001b[38;5;124mb\u001b[39m\u001b[38;5;124m\"\u001b[39m \u001b[38;5;129;01mnot\u001b[39;00m \u001b[38;5;129;01min\u001b[39;00m mode:\n\u001b[0;32m   1660\u001b[0m         mode \u001b[38;5;241m+\u001b[39m\u001b[38;5;241m=\u001b[39m \u001b[38;5;124m\"\u001b[39m\u001b[38;5;124mb\u001b[39m\u001b[38;5;124m\"\u001b[39m\n\u001b[1;32m-> 1661\u001b[0m \u001b[38;5;28mself\u001b[39m\u001b[38;5;241m.\u001b[39mhandles \u001b[38;5;241m=\u001b[39m \u001b[43mget_handle\u001b[49m\u001b[43m(\u001b[49m\n\u001b[0;32m   1662\u001b[0m \u001b[43m    \u001b[49m\u001b[43mf\u001b[49m\u001b[43m,\u001b[49m\n\u001b[0;32m   1663\u001b[0m \u001b[43m    \u001b[49m\u001b[43mmode\u001b[49m\u001b[43m,\u001b[49m\n\u001b[0;32m   1664\u001b[0m \u001b[43m    \u001b[49m\u001b[43mencoding\u001b[49m\u001b[38;5;241;43m=\u001b[39;49m\u001b[38;5;28;43mself\u001b[39;49m\u001b[38;5;241;43m.\u001b[39;49m\u001b[43moptions\u001b[49m\u001b[38;5;241;43m.\u001b[39;49m\u001b[43mget\u001b[49m\u001b[43m(\u001b[49m\u001b[38;5;124;43m\"\u001b[39;49m\u001b[38;5;124;43mencoding\u001b[39;49m\u001b[38;5;124;43m\"\u001b[39;49m\u001b[43m,\u001b[49m\u001b[43m \u001b[49m\u001b[38;5;28;43;01mNone\u001b[39;49;00m\u001b[43m)\u001b[49m\u001b[43m,\u001b[49m\n\u001b[0;32m   1665\u001b[0m \u001b[43m    \u001b[49m\u001b[43mcompression\u001b[49m\u001b[38;5;241;43m=\u001b[39;49m\u001b[38;5;28;43mself\u001b[39;49m\u001b[38;5;241;43m.\u001b[39;49m\u001b[43moptions\u001b[49m\u001b[38;5;241;43m.\u001b[39;49m\u001b[43mget\u001b[49m\u001b[43m(\u001b[49m\u001b[38;5;124;43m\"\u001b[39;49m\u001b[38;5;124;43mcompression\u001b[39;49m\u001b[38;5;124;43m\"\u001b[39;49m\u001b[43m,\u001b[49m\u001b[43m \u001b[49m\u001b[38;5;28;43;01mNone\u001b[39;49;00m\u001b[43m)\u001b[49m\u001b[43m,\u001b[49m\n\u001b[0;32m   1666\u001b[0m \u001b[43m    \u001b[49m\u001b[43mmemory_map\u001b[49m\u001b[38;5;241;43m=\u001b[39;49m\u001b[38;5;28;43mself\u001b[39;49m\u001b[38;5;241;43m.\u001b[39;49m\u001b[43moptions\u001b[49m\u001b[38;5;241;43m.\u001b[39;49m\u001b[43mget\u001b[49m\u001b[43m(\u001b[49m\u001b[38;5;124;43m\"\u001b[39;49m\u001b[38;5;124;43mmemory_map\u001b[39;49m\u001b[38;5;124;43m\"\u001b[39;49m\u001b[43m,\u001b[49m\u001b[43m \u001b[49m\u001b[38;5;28;43;01mFalse\u001b[39;49;00m\u001b[43m)\u001b[49m\u001b[43m,\u001b[49m\n\u001b[0;32m   1667\u001b[0m \u001b[43m    \u001b[49m\u001b[43mis_text\u001b[49m\u001b[38;5;241;43m=\u001b[39;49m\u001b[43mis_text\u001b[49m\u001b[43m,\u001b[49m\n\u001b[0;32m   1668\u001b[0m \u001b[43m    \u001b[49m\u001b[43merrors\u001b[49m\u001b[38;5;241;43m=\u001b[39;49m\u001b[38;5;28;43mself\u001b[39;49m\u001b[38;5;241;43m.\u001b[39;49m\u001b[43moptions\u001b[49m\u001b[38;5;241;43m.\u001b[39;49m\u001b[43mget\u001b[49m\u001b[43m(\u001b[49m\u001b[38;5;124;43m\"\u001b[39;49m\u001b[38;5;124;43mencoding_errors\u001b[39;49m\u001b[38;5;124;43m\"\u001b[39;49m\u001b[43m,\u001b[49m\u001b[43m \u001b[49m\u001b[38;5;124;43m\"\u001b[39;49m\u001b[38;5;124;43mstrict\u001b[39;49m\u001b[38;5;124;43m\"\u001b[39;49m\u001b[43m)\u001b[49m\u001b[43m,\u001b[49m\n\u001b[0;32m   1669\u001b[0m \u001b[43m    \u001b[49m\u001b[43mstorage_options\u001b[49m\u001b[38;5;241;43m=\u001b[39;49m\u001b[38;5;28;43mself\u001b[39;49m\u001b[38;5;241;43m.\u001b[39;49m\u001b[43moptions\u001b[49m\u001b[38;5;241;43m.\u001b[39;49m\u001b[43mget\u001b[49m\u001b[43m(\u001b[49m\u001b[38;5;124;43m\"\u001b[39;49m\u001b[38;5;124;43mstorage_options\u001b[39;49m\u001b[38;5;124;43m\"\u001b[39;49m\u001b[43m,\u001b[49m\u001b[43m \u001b[49m\u001b[38;5;28;43;01mNone\u001b[39;49;00m\u001b[43m)\u001b[49m\u001b[43m,\u001b[49m\n\u001b[0;32m   1670\u001b[0m \u001b[43m\u001b[49m\u001b[43m)\u001b[49m\n\u001b[0;32m   1671\u001b[0m \u001b[38;5;28;01massert\u001b[39;00m \u001b[38;5;28mself\u001b[39m\u001b[38;5;241m.\u001b[39mhandles \u001b[38;5;129;01mis\u001b[39;00m \u001b[38;5;129;01mnot\u001b[39;00m \u001b[38;5;28;01mNone\u001b[39;00m\n\u001b[0;32m   1672\u001b[0m f \u001b[38;5;241m=\u001b[39m \u001b[38;5;28mself\u001b[39m\u001b[38;5;241m.\u001b[39mhandles\u001b[38;5;241m.\u001b[39mhandle\n",
      "File \u001b[1;32mD:\\anaconda\\Lib\\site-packages\\pandas\\io\\common.py:859\u001b[0m, in \u001b[0;36mget_handle\u001b[1;34m(path_or_buf, mode, encoding, compression, memory_map, is_text, errors, storage_options)\u001b[0m\n\u001b[0;32m    854\u001b[0m \u001b[38;5;28;01melif\u001b[39;00m \u001b[38;5;28misinstance\u001b[39m(handle, \u001b[38;5;28mstr\u001b[39m):\n\u001b[0;32m    855\u001b[0m     \u001b[38;5;66;03m# Check whether the filename is to be opened in binary mode.\u001b[39;00m\n\u001b[0;32m    856\u001b[0m     \u001b[38;5;66;03m# Binary mode does not support 'encoding' and 'newline'.\u001b[39;00m\n\u001b[0;32m    857\u001b[0m     \u001b[38;5;28;01mif\u001b[39;00m ioargs\u001b[38;5;241m.\u001b[39mencoding \u001b[38;5;129;01mand\u001b[39;00m \u001b[38;5;124m\"\u001b[39m\u001b[38;5;124mb\u001b[39m\u001b[38;5;124m\"\u001b[39m \u001b[38;5;129;01mnot\u001b[39;00m \u001b[38;5;129;01min\u001b[39;00m ioargs\u001b[38;5;241m.\u001b[39mmode:\n\u001b[0;32m    858\u001b[0m         \u001b[38;5;66;03m# Encoding\u001b[39;00m\n\u001b[1;32m--> 859\u001b[0m         handle \u001b[38;5;241m=\u001b[39m \u001b[38;5;28;43mopen\u001b[39;49m\u001b[43m(\u001b[49m\n\u001b[0;32m    860\u001b[0m \u001b[43m            \u001b[49m\u001b[43mhandle\u001b[49m\u001b[43m,\u001b[49m\n\u001b[0;32m    861\u001b[0m \u001b[43m            \u001b[49m\u001b[43mioargs\u001b[49m\u001b[38;5;241;43m.\u001b[39;49m\u001b[43mmode\u001b[49m\u001b[43m,\u001b[49m\n\u001b[0;32m    862\u001b[0m \u001b[43m            \u001b[49m\u001b[43mencoding\u001b[49m\u001b[38;5;241;43m=\u001b[39;49m\u001b[43mioargs\u001b[49m\u001b[38;5;241;43m.\u001b[39;49m\u001b[43mencoding\u001b[49m\u001b[43m,\u001b[49m\n\u001b[0;32m    863\u001b[0m \u001b[43m            \u001b[49m\u001b[43merrors\u001b[49m\u001b[38;5;241;43m=\u001b[39;49m\u001b[43merrors\u001b[49m\u001b[43m,\u001b[49m\n\u001b[0;32m    864\u001b[0m \u001b[43m            \u001b[49m\u001b[43mnewline\u001b[49m\u001b[38;5;241;43m=\u001b[39;49m\u001b[38;5;124;43m\"\u001b[39;49m\u001b[38;5;124;43m\"\u001b[39;49m\u001b[43m,\u001b[49m\n\u001b[0;32m    865\u001b[0m \u001b[43m        \u001b[49m\u001b[43m)\u001b[49m\n\u001b[0;32m    866\u001b[0m     \u001b[38;5;28;01melse\u001b[39;00m:\n\u001b[0;32m    867\u001b[0m         \u001b[38;5;66;03m# Binary mode\u001b[39;00m\n\u001b[0;32m    868\u001b[0m         handle \u001b[38;5;241m=\u001b[39m \u001b[38;5;28mopen\u001b[39m(handle, ioargs\u001b[38;5;241m.\u001b[39mmode)\n",
      "\u001b[1;31mFileNotFoundError\u001b[0m: [Errno 2] No such file or directory: 'bnb.csv'"
     ]
    }
   ],
   "source": [
    "# Explore the dataset with the pandas library.\n",
    "data = pd.read_csv(\"bnb.csv\")\n",
    "data"
   ]
  },
  {
   "cell_type": "code",
   "execution_count": 14,
   "metadata": {},
   "outputs": [
    {
     "name": "stdout",
     "output_type": "stream",
     "text": [
      "<class 'pandas.core.frame.DataFrame'>\n",
      "RangeIndex: 33355 entries, 0 to 33354\n",
      "Data columns (total 14 columns):\n",
      " #   Column                     Non-Null Count  Dtype  \n",
      "---  ------                     --------------  -----  \n",
      " 0   Unnamed: 0                 33355 non-null  int64  \n",
      " 1   bedrooms                   33355 non-null  float64\n",
      " 2   beds                       33355 non-null  float64\n",
      " 3   accommodates               33355 non-null  int64  \n",
      " 4   amenities_count            33355 non-null  int64  \n",
      " 5   instant_bookable           33355 non-null  int64  \n",
      " 6   minimum_nights             33355 non-null  int64  \n",
      " 7   number_of_reviews          33355 non-null  int64  \n",
      " 8   bathrooms                  33355 non-null  float64\n",
      " 9   monthly_revenue            33355 non-null  int64  \n",
      " 10  room_type_Entire_home_apt  33355 non-null  int64  \n",
      " 11  room_type_Hotel_room       33355 non-null  int64  \n",
      " 12  room_type_Private_room     33355 non-null  int64  \n",
      " 13  room_type_Shared_room      33355 non-null  int64  \n",
      "dtypes: float64(3), int64(11)\n",
      "memory usage: 3.6 MB\n"
     ]
    }
   ],
   "source": [
    "# information of data\n",
    "data.info()"
   ]
  },
  {
   "cell_type": "code",
   "execution_count": 120,
   "metadata": {},
   "outputs": [
    {
     "name": "stdout",
     "output_type": "stream",
     "text": [
      "       Unnamed: 0  bedrooms  beds  accommodates  amenities_count  \\\n",
      "2403         3301       6.0  10.0             1               21   \n",
      "3528         4856       7.0  10.0            16               29   \n",
      "3623         4994       4.0  10.0            16               12   \n",
      "3643         5023       7.0  10.0            10               25   \n",
      "3647         5029       4.0  10.0            16               59   \n",
      "4246         5826       6.0  10.0            10               12   \n",
      "5291         7265       5.0  10.0            16               30   \n",
      "5773         7917       6.0  10.0            16               46   \n",
      "7825        10697       6.0  10.0            15               79   \n",
      "7974        10890       5.0  10.0            13               20   \n",
      "8227        11213       4.0  10.0            10               28   \n",
      "10182       13767       5.0  10.0            10               57   \n",
      "10792       14602       3.0  10.0            16               90   \n",
      "13341       18010       6.0  10.0            16               55   \n",
      "14604       19664       5.0  10.0            14               65   \n",
      "16681       22263       4.0  10.0            10               37   \n",
      "18142       24159       2.0  10.0             6               42   \n",
      "25003       33247       6.0  10.0            14               21   \n",
      "27034       35974       5.0  10.0            16               14   \n",
      "27946       37188       0.0  10.0            10               14   \n",
      "28905       38489       7.0  10.0            14               59   \n",
      "28966       38569       5.0  10.0            10               67   \n",
      "29287       38996       5.0  10.0            16               31   \n",
      "30973       41310       0.0  10.0            10               13   \n",
      "32301       43117       5.0  10.0            16               47   \n",
      "\n",
      "       instant_bookable  minimum_nights  number_of_reviews  bathrooms  \\\n",
      "2403                  1              30                  0        3.0   \n",
      "3528                  0               1                 93        5.0   \n",
      "3623                  0               1                  0        4.0   \n",
      "3643                  0              28                  0        8.0   \n",
      "3647                  1              30                  2        2.0   \n",
      "4246                  1               1                  0        6.0   \n",
      "5291                  0              31                  2        3.0   \n",
      "5773                  1               2                 29        3.0   \n",
      "7825                  1               2                 22        3.0   \n",
      "7974                  0               1                 13        3.0   \n",
      "8227                  0               2                  1        3.0   \n",
      "10182                 0               1                 50        3.0   \n",
      "10792                 0               2                229        3.0   \n",
      "13341                 0               1                  0        4.0   \n",
      "14604                 0               4                 51        3.0   \n",
      "16681                 0               2                185        3.0   \n",
      "18142                 0               2                 10        1.0   \n",
      "25003                 1               1                  1        7.0   \n",
      "27034                 1               1                  5        3.0   \n",
      "27946                 0              30                 11        3.0   \n",
      "28905                 1               1                 17        4.0   \n",
      "28966                 0               2                 35        2.0   \n",
      "29287                 1               3                  2        3.0   \n",
      "30973                 0              30                 13        3.0   \n",
      "32301                 1               3                  0        3.0   \n",
      "\n",
      "       monthly_revenue  room_type_Entire_home_apt  room_type_Hotel_room  \\\n",
      "2403                 0                          1                     0   \n",
      "3528                 1                          1                     0   \n",
      "3623                 0                          1                     0   \n",
      "3643                 1                          1                     0   \n",
      "3647                 1                          1                     0   \n",
      "4246                 1                          1                     0   \n",
      "5291                 0                          1                     0   \n",
      "5773                 1                          1                     0   \n",
      "7825                 1                          1                     0   \n",
      "7974                 0                          1                     0   \n",
      "8227                 0                          1                     0   \n",
      "10182                1                          1                     0   \n",
      "10792                1                          1                     0   \n",
      "13341                0                          1                     0   \n",
      "14604                0                          1                     0   \n",
      "16681                1                          1                     0   \n",
      "18142                0                          1                     0   \n",
      "25003                1                          1                     0   \n",
      "27034                1                          1                     0   \n",
      "27946                0                          0                     0   \n",
      "28905                1                          1                     0   \n",
      "28966                1                          1                     0   \n",
      "29287                1                          1                     0   \n",
      "30973                0                          0                     0   \n",
      "32301                1                          1                     0   \n",
      "\n",
      "       room_type_Private_room  room_type_Shared_room  \n",
      "2403                        0                      0  \n",
      "3528                        0                      0  \n",
      "3623                        0                      0  \n",
      "3643                        0                      0  \n",
      "3647                        0                      0  \n",
      "4246                        0                      0  \n",
      "5291                        0                      0  \n",
      "5773                        0                      0  \n",
      "7825                        0                      0  \n",
      "7974                        0                      0  \n",
      "8227                        0                      0  \n",
      "10182                       0                      0  \n",
      "10792                       0                      0  \n",
      "13341                       0                      0  \n",
      "14604                       0                      0  \n",
      "16681                       0                      0  \n",
      "18142                       0                      0  \n",
      "25003                       0                      0  \n",
      "27034                       0                      0  \n",
      "27946                       0                      1  \n",
      "28905                       0                      0  \n",
      "28966                       0                      0  \n",
      "29287                       0                      0  \n",
      "30973                       0                      1  \n",
      "32301                       0                      0  \n"
     ]
    }
   ],
   "source": [
    "# clean some data\n",
    "data1 = data1.drop(data[data['bedrooms'] >= 10].index)\n",
    "\n",
    "\n",
    "print(data1.loc[data['beds'] > 9,  ])"
   ]
  },
  {
   "cell_type": "code",
   "execution_count": 121,
   "metadata": {},
   "outputs": [
    {
     "ename": "SyntaxError",
     "evalue": "incomplete input (3798130574.py, line 3)",
     "output_type": "error",
     "traceback": [
      "\u001b[1;36m  Cell \u001b[1;32mIn[121], line 3\u001b[1;36m\u001b[0m\n\u001b[1;33m    #data1.describe()\u001b[0m\n\u001b[1;37m                     ^\u001b[0m\n\u001b[1;31mSyntaxError\u001b[0m\u001b[1;31m:\u001b[0m incomplete input\n"
     ]
    }
   ],
   "source": [
    "data1.loc[data['bedrooms'] > 10\n",
    "\n",
    "#data1.describe()"
   ]
  },
  {
   "cell_type": "code",
   "execution_count": 102,
   "metadata": {},
   "outputs": [],
   "source": [
    "# Import seaborn\n",
    "import seaborn as sns\n",
    "\n",
    "# The number of gender in the dataset and its graphic.\n",
    "#sns.countplot(x = \"gender\", data = data)\n",
    "#data.loc[:,\"gender\"].value_counts()"
   ]
  },
  {
   "cell_type": "markdown",
   "metadata": {},
   "source": [
    "### Naive Bayes Implementation"
   ]
  },
  {
   "cell_type": "code",
   "execution_count": null,
   "metadata": {},
   "outputs": [],
   "source": []
  },
  {
   "cell_type": "code",
   "execution_count": 12,
   "metadata": {},
   "outputs": [],
   "source": [
    "# Change gender type to represent categories as numbers, \n",
    "# since most ML algorithms in python expect numbers and cannot process text\n",
    "# Male : 1\n",
    "# Female : 0\n",
    "#data_nbc.gender = [1 if i == \"Male\" else 0 for i in data_nbc.gender]"
   ]
  },
  {
   "cell_type": "markdown",
   "metadata": {},
   "source": [
    "## Below gives me the threshold of info gain for different variables."
   ]
  },
  {
   "cell_type": "code",
   "execution_count": 235,
   "metadata": {},
   "outputs": [
    {
     "name": "stdout",
     "output_type": "stream",
     "text": [
      "Features with low information gain: ['Unnamed: 0', 'instant_bookable', 'minimum_nights', 'number_of_reviews', 'room_type_Hotel_room', 'room_type_Shared_room']\n",
      "Features with high information gain: ['bedrooms', 'beds', 'accommodates', 'amenities_count', 'bathrooms', 'room_type_Entire_home_apt', 'room_type_Private_room']\n",
      "Features with low information gain: ['Unnamed: 0', 'instant_bookable', 'minimum_nights', 'number_of_reviews', 'room_type_Hotel_room', 'room_type_Shared_room']\n",
      "Model trained on filtered data.\n"
     ]
    }
   ],
   "source": [
    "from sklearn.feature_selection import mutual_info_classif\n",
    "from sklearn.naive_bayes import GaussianNB\n",
    "import pandas as pd\n",
    "\n",
    "# This Seperate\n",
    "# )\n",
    "\n",
    "y = data1[\"monthly_revenue\"]\n",
    "\n",
    "# Drop the target variable from the feature matrix\n",
    "X = data1.drop(\"monthly_revenue\", axis=1)\n",
    "\n",
    "\n",
    "info_gain = mutual_info_classif(X, y)\n",
    "\n",
    "# Define threshold for information gain\n",
    "threshold = .009\n",
    "\n",
    "# Get feature names\n",
    "feature_names = X.columns.tolist()\n",
    "\n",
    "# Select features with low information gain\n",
    "low_gain_features = [feature_names[i] for i, gain in enumerate(info_gain) if gain < threshold]\n",
    "\n",
    "# Print the names of features with low information gain\n",
    "print(\"Features with low information gain:\", low_gain_features)\n",
    "\n",
    "# high gain features: filter features based on their information gain\n",
    "high_gain_features = [feature_names[i] for i, gain in enumerate(info_gain) if gain >= threshold]\n",
    "print(\"Features with high information gain:\", high_gain_features)\n",
    "\n",
    "# Calculate mutual information\n",
    "#info_gain = mutual_info_classif(X, y)\n",
    "\n",
    "# Define threshold for information gain\n",
    "#threshold = 0.1\n",
    "\n",
    "# Select features with low information gain\n",
    "#low_gain_features = [i for i, gain in enumerate(info_gain) if gain < threshold]\n",
    "\n",
    "# Drop features with low information gain\n",
    "#X_filtered = X.drop(X.columns[low_gain_features], axis=1)\n",
    "\n",
    "# Train your Naive Bayes model on the filtered data\n",
    "#model = GaussianNB()\n",
    "#model.fit(X_filtered, y)\n",
    "\n",
    "print(\"Features with low information gain:\", low_gain_features)\n",
    "print(\"Model trained on filtered data.\")\n"
   ]
  },
  {
   "cell_type": "code",
   "execution_count": 276,
   "metadata": {},
   "outputs": [
    {
     "name": "stdout",
     "output_type": "stream",
     "text": [
      "Model trained on filtered data.\n"
     ]
    }
   ],
   "source": [
    "import pandas as pd\n",
    "from sklearn.model_selection import train_test_split\n",
    "\n",
    "\n",
    "# Select columns with high information gain & predicted variable\n",
    "relevant_columns = [\"monthly_revenue\", 'amenities_count', 'bathrooms', 'room_type_Entire_home_apt', 'room_type_Private_room']\n",
    "\n",
    "# Filter data based on relevant columns - we did this below \n",
    "#X_train, X_test, y_train, y_test = train_test_split(data1[relevant_columns], y, test_size=0.3)\n",
    "\n",
    "\n",
    "# Evaluate model performance using appropriate metrics like R^2 or mean squared error\n",
    "\n",
    "print(\"Model trained on filtered data.\")\n",
    "# Split the DataFrame into training and testing sets\n",
    "train_data, test_data = train_test_split(data1[relevant_columns], test_size=0.3, random_state=1)\n",
    "\n",
    "# Train your Naive Bayes model on the filtered data\n",
    "#model = GaussianNB()\n",
    "#model.fit(X_train, y_train)\n",
    "\n",
    "# Predict monthly revenue for the test data\n",
    "#y_pred = model.predict(X_test)\n",
    "\n",
    "# Save the subsets to separate CSV files\n",
    "train_data.to_csv('trainbnb.csv', index=False)\n",
    "test_data.to_csv('testbnb.csv', index=False)"
   ]
  },
  {
   "cell_type": "markdown",
   "metadata": {},
   "source": [
    "### Why split the data to train and test ?\n",
    "\n",
    "1. **Test Real-world Performance**: See how the model does on new data.\n",
    "2. **Avoid Overfitting**: Ensure the model doesn't just memorize training data.\n",
    "3. **Measure Accuracy**: Check how well the model truly performs.\n",
    "4. **Choose the Best Model**: Compare and select the most effective model or settings.\n",
    "\n",
    "### Code analysis \n",
    "\n",
    "Parameters (explained):\n",
    "\n",
    "- test_size=0.3: This indicates that 30% of the data will be used for the testing set, and the remaining 70% will be used for the training set.\n",
    "\n",
    "- random_state=1: This sets the seed for the random number generator used in the splitting process. Specifying this ensures reproducibility, which means that the split will be the same every time the code is run with this particular random_state value. Without setting this, you would get different splits each time you run the code.\n",
    "\n",
    "Return Values:\n",
    "The function will return two datasets, in the following order:\n",
    "\n",
    "- Training data subset (from train_data).\n",
    "- Testing data subset (from test_data)."
   ]
  },
  {
   "cell_type": "code",
   "execution_count": 277,
   "metadata": {},
   "outputs": [],
   "source": [
    "# Load the training and testing data from CSV files\n",
    "train_data = pd.read_csv('trainbnb.csv')\n",
    "test_data = pd.read_csv('testbnb.csv')"
   ]
  },
  {
   "cell_type": "code",
   "execution_count": 278,
   "metadata": {},
   "outputs": [],
   "source": [
    "# Separate features and target variable for training data\n",
    "x_train = train_data.drop([\"monthly_revenue\"], axis=1)\n",
    "y_train = train_data.monthly_revenue.values\n",
    "\n",
    "# Separate features and target variable for testing data\n",
    "x_test = test_data.drop([\"monthly_revenue\"], axis=1)\n",
    "y_test = test_data.monthly_revenue.values"
   ]
  },
  {
   "cell_type": "code",
   "execution_count": 279,
   "metadata": {},
   "outputs": [
    {
     "data": {
      "text/html": [
       "<div>\n",
       "<style scoped>\n",
       "    .dataframe tbody tr th:only-of-type {\n",
       "        vertical-align: middle;\n",
       "    }\n",
       "\n",
       "    .dataframe tbody tr th {\n",
       "        vertical-align: top;\n",
       "    }\n",
       "\n",
       "    .dataframe thead th {\n",
       "        text-align: right;\n",
       "    }\n",
       "</style>\n",
       "<table border=\"1\" class=\"dataframe\">\n",
       "  <thead>\n",
       "    <tr style=\"text-align: right;\">\n",
       "      <th></th>\n",
       "      <th>amenities_count</th>\n",
       "      <th>bathrooms</th>\n",
       "      <th>room_type_Entire_home_apt</th>\n",
       "      <th>room_type_Private_room</th>\n",
       "    </tr>\n",
       "  </thead>\n",
       "  <tbody>\n",
       "    <tr>\n",
       "      <th>0</th>\n",
       "      <td>47</td>\n",
       "      <td>2.0</td>\n",
       "      <td>1</td>\n",
       "      <td>0</td>\n",
       "    </tr>\n",
       "    <tr>\n",
       "      <th>1</th>\n",
       "      <td>31</td>\n",
       "      <td>2.0</td>\n",
       "      <td>1</td>\n",
       "      <td>0</td>\n",
       "    </tr>\n",
       "    <tr>\n",
       "      <th>2</th>\n",
       "      <td>53</td>\n",
       "      <td>1.0</td>\n",
       "      <td>1</td>\n",
       "      <td>0</td>\n",
       "    </tr>\n",
       "    <tr>\n",
       "      <th>3</th>\n",
       "      <td>14</td>\n",
       "      <td>1.0</td>\n",
       "      <td>1</td>\n",
       "      <td>0</td>\n",
       "    </tr>\n",
       "    <tr>\n",
       "      <th>4</th>\n",
       "      <td>13</td>\n",
       "      <td>1.0</td>\n",
       "      <td>0</td>\n",
       "      <td>1</td>\n",
       "    </tr>\n",
       "    <tr>\n",
       "      <th>...</th>\n",
       "      <td>...</td>\n",
       "      <td>...</td>\n",
       "      <td>...</td>\n",
       "      <td>...</td>\n",
       "    </tr>\n",
       "    <tr>\n",
       "      <th>23298</th>\n",
       "      <td>59</td>\n",
       "      <td>3.0</td>\n",
       "      <td>1</td>\n",
       "      <td>0</td>\n",
       "    </tr>\n",
       "    <tr>\n",
       "      <th>23299</th>\n",
       "      <td>51</td>\n",
       "      <td>1.0</td>\n",
       "      <td>1</td>\n",
       "      <td>0</td>\n",
       "    </tr>\n",
       "    <tr>\n",
       "      <th>23300</th>\n",
       "      <td>37</td>\n",
       "      <td>1.0</td>\n",
       "      <td>1</td>\n",
       "      <td>0</td>\n",
       "    </tr>\n",
       "    <tr>\n",
       "      <th>23301</th>\n",
       "      <td>20</td>\n",
       "      <td>1.0</td>\n",
       "      <td>0</td>\n",
       "      <td>1</td>\n",
       "    </tr>\n",
       "    <tr>\n",
       "      <th>23302</th>\n",
       "      <td>15</td>\n",
       "      <td>1.0</td>\n",
       "      <td>1</td>\n",
       "      <td>0</td>\n",
       "    </tr>\n",
       "  </tbody>\n",
       "</table>\n",
       "<p>23303 rows × 4 columns</p>\n",
       "</div>"
      ],
      "text/plain": [
       "       amenities_count  bathrooms  room_type_Entire_home_apt  \\\n",
       "0                   47        2.0                          1   \n",
       "1                   31        2.0                          1   \n",
       "2                   53        1.0                          1   \n",
       "3                   14        1.0                          1   \n",
       "4                   13        1.0                          0   \n",
       "...                ...        ...                        ...   \n",
       "23298               59        3.0                          1   \n",
       "23299               51        1.0                          1   \n",
       "23300               37        1.0                          1   \n",
       "23301               20        1.0                          0   \n",
       "23302               15        1.0                          1   \n",
       "\n",
       "       room_type_Private_room  \n",
       "0                           0  \n",
       "1                           0  \n",
       "2                           0  \n",
       "3                           0  \n",
       "4                           1  \n",
       "...                       ...  \n",
       "23298                       0  \n",
       "23299                       0  \n",
       "23300                       0  \n",
       "23301                       1  \n",
       "23302                       0  \n",
       "\n",
       "[23303 rows x 4 columns]"
      ]
     },
     "execution_count": 279,
     "metadata": {},
     "output_type": "execute_result"
    }
   ],
   "source": [
    "x_train"
   ]
  },
  {
   "cell_type": "code",
   "execution_count": 280,
   "metadata": {},
   "outputs": [
    {
     "data": {
      "text/plain": [
       "array([1, 1, 0, ..., 1, 1, 1], dtype=int64)"
      ]
     },
     "execution_count": 280,
     "metadata": {},
     "output_type": "execute_result"
    }
   ],
   "source": [
    "y_train"
   ]
  },
  {
   "cell_type": "code",
   "execution_count": 281,
   "metadata": {},
   "outputs": [
    {
     "data": {
      "text/html": [
       "<div>\n",
       "<style scoped>\n",
       "    .dataframe tbody tr th:only-of-type {\n",
       "        vertical-align: middle;\n",
       "    }\n",
       "\n",
       "    .dataframe tbody tr th {\n",
       "        vertical-align: top;\n",
       "    }\n",
       "\n",
       "    .dataframe thead th {\n",
       "        text-align: right;\n",
       "    }\n",
       "</style>\n",
       "<table border=\"1\" class=\"dataframe\">\n",
       "  <thead>\n",
       "    <tr style=\"text-align: right;\">\n",
       "      <th></th>\n",
       "      <th>amenities_count</th>\n",
       "      <th>bathrooms</th>\n",
       "      <th>room_type_Entire_home_apt</th>\n",
       "      <th>room_type_Private_room</th>\n",
       "    </tr>\n",
       "  </thead>\n",
       "  <tbody>\n",
       "    <tr>\n",
       "      <th>0</th>\n",
       "      <td>10</td>\n",
       "      <td>1.0</td>\n",
       "      <td>1</td>\n",
       "      <td>0</td>\n",
       "    </tr>\n",
       "    <tr>\n",
       "      <th>1</th>\n",
       "      <td>56</td>\n",
       "      <td>2.0</td>\n",
       "      <td>1</td>\n",
       "      <td>0</td>\n",
       "    </tr>\n",
       "    <tr>\n",
       "      <th>2</th>\n",
       "      <td>16</td>\n",
       "      <td>1.0</td>\n",
       "      <td>0</td>\n",
       "      <td>1</td>\n",
       "    </tr>\n",
       "    <tr>\n",
       "      <th>3</th>\n",
       "      <td>23</td>\n",
       "      <td>1.0</td>\n",
       "      <td>0</td>\n",
       "      <td>1</td>\n",
       "    </tr>\n",
       "    <tr>\n",
       "      <th>4</th>\n",
       "      <td>25</td>\n",
       "      <td>1.0</td>\n",
       "      <td>0</td>\n",
       "      <td>1</td>\n",
       "    </tr>\n",
       "    <tr>\n",
       "      <th>...</th>\n",
       "      <td>...</td>\n",
       "      <td>...</td>\n",
       "      <td>...</td>\n",
       "      <td>...</td>\n",
       "    </tr>\n",
       "    <tr>\n",
       "      <th>9983</th>\n",
       "      <td>20</td>\n",
       "      <td>1.0</td>\n",
       "      <td>1</td>\n",
       "      <td>0</td>\n",
       "    </tr>\n",
       "    <tr>\n",
       "      <th>9984</th>\n",
       "      <td>55</td>\n",
       "      <td>1.0</td>\n",
       "      <td>1</td>\n",
       "      <td>0</td>\n",
       "    </tr>\n",
       "    <tr>\n",
       "      <th>9985</th>\n",
       "      <td>30</td>\n",
       "      <td>1.0</td>\n",
       "      <td>1</td>\n",
       "      <td>0</td>\n",
       "    </tr>\n",
       "    <tr>\n",
       "      <th>9986</th>\n",
       "      <td>28</td>\n",
       "      <td>1.0</td>\n",
       "      <td>1</td>\n",
       "      <td>0</td>\n",
       "    </tr>\n",
       "    <tr>\n",
       "      <th>9987</th>\n",
       "      <td>14</td>\n",
       "      <td>1.0</td>\n",
       "      <td>0</td>\n",
       "      <td>1</td>\n",
       "    </tr>\n",
       "  </tbody>\n",
       "</table>\n",
       "<p>9988 rows × 4 columns</p>\n",
       "</div>"
      ],
      "text/plain": [
       "      amenities_count  bathrooms  room_type_Entire_home_apt  \\\n",
       "0                  10        1.0                          1   \n",
       "1                  56        2.0                          1   \n",
       "2                  16        1.0                          0   \n",
       "3                  23        1.0                          0   \n",
       "4                  25        1.0                          0   \n",
       "...               ...        ...                        ...   \n",
       "9983               20        1.0                          1   \n",
       "9984               55        1.0                          1   \n",
       "9985               30        1.0                          1   \n",
       "9986               28        1.0                          1   \n",
       "9987               14        1.0                          0   \n",
       "\n",
       "      room_type_Private_room  \n",
       "0                          0  \n",
       "1                          0  \n",
       "2                          1  \n",
       "3                          1  \n",
       "4                          1  \n",
       "...                      ...  \n",
       "9983                       0  \n",
       "9984                       0  \n",
       "9985                       0  \n",
       "9986                       0  \n",
       "9987                       1  \n",
       "\n",
       "[9988 rows x 4 columns]"
      ]
     },
     "execution_count": 281,
     "metadata": {},
     "output_type": "execute_result"
    }
   ],
   "source": [
    "x_test"
   ]
  },
  {
   "cell_type": "code",
   "execution_count": 282,
   "metadata": {},
   "outputs": [
    {
     "data": {
      "text/plain": [
       "array([1, 0, 0, ..., 0, 1, 0], dtype=int64)"
      ]
     },
     "execution_count": 282,
     "metadata": {},
     "output_type": "execute_result"
    }
   ],
   "source": [
    "y_test"
   ]
  },
  {
   "cell_type": "code",
   "execution_count": 283,
   "metadata": {},
   "outputs": [
    {
     "name": "stdout",
     "output_type": "stream",
     "text": [
      "print Train for accuracy of bnb algo:  0.6302621980002575\n",
      "print Test for accuracy of bnb algo:  0.6355626752102523\n"
     ]
    }
   ],
   "source": [
    "from sklearn.naive_bayes import MultinomialNB\n",
    "\n",
    "# Build a Gaussian Classifier\n",
    "model = MultinomialNB()\n",
    "\n",
    "# Model training -- model.fit() is used to make predictions using given data i.e. it fits/maps \n",
    "# the given data to the model\n",
    "# creating the contingency probability table like we saw in the lecture\n",
    "\n",
    "model.fit(x_train, y_train)\n",
    "\n",
    "print(\"print Train for accuracy of bnb algo: \", model.score(x_train,y_train))\n",
    "print(\"print Test for accuracy of bnb algo: \", model.score(x_test,y_test))"
   ]
  },
  {
   "cell_type": "markdown",
   "metadata": {},
   "source": [
    "* Scikit-learn, a popular Python library for machine learning, provides several implementations of the Naive Bayes algorithm. \n",
    "* Each of these implementations is suited to different types of data and use cases. \n",
    "* When selecting a specific Naive Bayes model, it's crucial to consider the nature of your data and the assumptions of each model.\n",
    "\n",
    "https://scikit-learn.org/stable/modules/naive_bayes.html"
   ]
  },
  {
   "cell_type": "code",
   "execution_count": 284,
   "metadata": {},
   "outputs": [
    {
     "name": "stdout",
     "output_type": "stream",
     "text": [
      "Accuracy: 0.6355626752102523\n",
      "F1 Score: 0.6331704142074379\n"
     ]
    }
   ],
   "source": [
    "from sklearn.metrics import (\n",
    "    accuracy_score,\n",
    "    confusion_matrix,\n",
    "    ConfusionMatrixDisplay,\n",
    "    f1_score,\n",
    ")\n",
    "\n",
    "y_pred = model.predict(x_test)\n",
    "accuray = accuracy_score(y_pred, y_test)\n",
    "f1 = f1_score(y_pred, y_test, average=\"weighted\")\n",
    "\n",
    "print(\"Accuracy:\", accuray)\n",
    "print(\"F1 Score:\", f1)"
   ]
  },
  {
   "cell_type": "markdown",
   "metadata": {},
   "source": [
    "- **Prediction**: y_pred stores predictions made on x_test by the model.\n",
    "- **Accuracy**: Compares y_pred with y_test to compute accuracy.\n",
    "- **F1 Score**: Computes weighted F1 score using y_pred and y_test. The average=\"weighted\" parameter calculates metrics for each label and finds their average weighted by the number of true instances for each label.\n",
    "- **Output**: Prints calculated accuracy and F1 score.\n",
    "\n",
    "**What is the F1 score ?**\n",
    "\n",
    "The F1 score is a measure used in statistics and machine learning to evaluate the accuracy of binary classifications. It's particularly useful when the classes are imbalanced."
   ]
  },
  {
   "cell_type": "code",
   "execution_count": 285,
   "metadata": {},
   "outputs": [
    {
     "data": {
      "image/png": "[encoded data removed]",
      "text/plain": [
       "<Figure size 640x480 with 2 Axes>"
      ]
     },
     "metadata": {},
     "output_type": "display_data"
    }
   ],
   "source": [
    "labels = [0,1]\n",
    "cm = confusion_matrix(y_test, y_pred, labels=labels)\n",
    "disp = ConfusionMatrixDisplay(confusion_matrix=cm, display_labels=labels)\n",
    "disp.plot();"
   ]
  },
  {
   "cell_type": "markdown",
   "metadata": {},
   "source": [
    " Create code to take an input and determine if it will be 0 (below our threshold of $2742) or 1 (above our threshold)"
   ]
  },
  {
   "cell_type": "code",
   "execution_count": null,
   "metadata": {},
   "outputs": [],
   "source": [
    "# Import necessary libraries\n",
    "from sklearn.model_selection import train_test_split\n",
    "from sklearn.naive_bayes import GaussianNB\n",
    "import numpy as np\n",
    "import pandas as pd\n",
    "\n",
    "#Define new data point\n",
    "new_data = {'amenities_count':input('number of amenities ie: parking, wifi, laundry):'), 'bathrooms':input('how many bathrooms your house has: '), 'room_type_Entire_home_apt':input('if you will rent the entire house, type 1 otherwise type 0.'),'room_type_Private_room':input('if you will rent just a room, type 1 otherwise type 0.')}\n",
    "\n",
    "# turn to dataframe\n",
    "new_data_reshaped = pd.DataFrame(data=new_data, index=[0])  # Add an index with value 0\n",
    "\n",
    "# Predict the rental data value\n",
    "predicted_value = model.predict(new_data_reshaped)  # Access 'monthly_revenue' after prediction\n",
    "print(predicted_value)\n",
    "# Print the predicted value\n",
    "if predicted_value == 1: \n",
    "    print(\"your landlord should kick you out and make more money on Airbnb!\");\n",
    "else :  print('you are safe, your landlord makes enough off of you')"
   ]
  },
  {
   "cell_type": "code",
   "execution_count": null,
   "metadata": {},
   "outputs": [],
   "source": []
  }
 ],
 "metadata": {
  "kernelspec": {
   "display_name": "Python 3 (ipykernel)",
   "language": "python",
   "name": "python3"
  },
  "language_info": {
   "codemirror_mode": {
    "name": "ipython",
    "version": 3
   },
   "file_extension": ".py",
   "mimetype": "text/x-python",
   "name": "python",
   "nbconvert_exporter": "python",
   "pygments_lexer": "ipython3",
   "version": "3.11.5"
  }
 },
 "nbformat": 4,
 "nbformat_minor": 4
}
